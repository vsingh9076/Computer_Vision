{
  "cells": [
    {
      "cell_type": "markdown",
      "metadata": {
        "id": "view-in-github",
        "colab_type": "text"
      },
      "source": [
        "<a href=\"https://colab.research.google.com/github/vsingh9076/Computer_Vision/blob/main/PyTesseract/PDF_Reader.ipynb\" target=\"_parent\"><img src=\"https://colab.research.google.com/assets/colab-badge.svg\" alt=\"Open In Colab\"/></a>"
      ]
    },
    {
      "cell_type": "markdown",
      "metadata": {
        "id": "Q5Vgm2grI5ti"
      },
      "source": [
        "# Extracting text/tables from scanned PDF files"
      ]
    },
    {
      "cell_type": "code",
      "execution_count": null,
      "metadata": {
        "id": "IiIYeVeaI5tl"
      },
      "outputs": [],
      "source": [
        "from PIL import Image\n",
        "from pdf2image import convert_from_path\n",
        "import pytesseract\n",
        "import os\n",
        "import fitz"
      ]
    },
    {
      "cell_type": "code",
      "execution_count": null,
      "metadata": {
        "id": "JhBXjKfiI5tn"
      },
      "outputs": [],
      "source": [
        "# Create a function to convert the PDF to images\n",
        "def convert_to_images(input_file):\n",
        "    images = convert_from_path(input_file)\n",
        "    for image in images:\n",
        "      output_file = f\"page_{images.index(image)}.png\"\n",
        "      image.save(output_file, 'PNG')\n",
        "\n",
        "# Create a function to read text from images\n",
        "def image_to_text(image_path):\n",
        "    # Read the image\n",
        "    img = Image.open(image_path)\n",
        "    # Extract the text from the image\n",
        "    text = pytesseract.image_to_string(img)\n",
        "    print(text)\n",
        "    return text"
      ]
    },
    {
      "cell_type": "code",
      "execution_count": null,
      "metadata": {
        "id": "4fWaEwYaI5to"
      },
      "outputs": [],
      "source": [
        "# Find the PDF path\n",
        "pdf_path = '/content/SAMPLETEXT.pdf'"
      ]
    },
    {
      "cell_type": "code",
      "source": [
        "convert_to_images(pdf_path)\n",
        "#image_to_text(\"/content/PDF_image.png\")"
      ],
      "metadata": {
        "id": "mpUxy-n94rtQ"
      },
      "execution_count": null,
      "outputs": []
    },
    {
      "cell_type": "code",
      "source": [
        "import pandas as pd\n",
        "def extract_data_from_table_ocr(image_path, output_csv_path):\n",
        "    from img2table.ocr import TesseractOCR\n",
        "    from img2table.document import Image\n",
        "\n",
        "    # Instantiation of OCR\n",
        "    ocr = TesseractOCR(n_threads=1, lang=\"eng\")\n",
        "\n",
        "    # Instantiation of image document\n",
        "    doc = Image(image_path)\n",
        "\n",
        "    # Table extraction\n",
        "    extracted_tables_all = doc.extract_tables(ocr=ocr,\n",
        "                                        implicit_rows=False,\n",
        "                                        borderless_tables=False,\n",
        "                                        min_confidence=50)\n",
        "    print(\"length : \" , len(extracted_tables_all))\n",
        "    if len(extracted_tables_all)>0:\n",
        "      extracted_tables = extracted_tables_all[0]\n",
        "      frames = []\n",
        "      for table in extracted_tables_all:\n",
        "          try:\n",
        "              frames.append(table.df)\n",
        "          except:\n",
        "              frames.append(table)\n",
        "\n",
        "      result = pd.concat(frames)\n",
        "\n",
        "      result.to_csv(output_csv_path, index=False, header = True)\n",
        "\n",
        "def get_all_tables_into_csv(image_folder, output_folder):\n",
        "  # Iterate through image files in the folder\n",
        "  for filename in os.listdir(image_folder):\n",
        "      if filename.lower().endswith(('.png', '.jpg', '.jpeg')):\n",
        "          image_path = os.path.join(image_folder, filename)\n",
        "\n",
        "          # Generate a corresponding CSV file path\n",
        "          base_filename, _ = os.path.splitext(filename)\n",
        "          output_csv_path = os.path.join(output_folder, f\"{base_filename}.csv\")\n",
        "\n",
        "          # Process and save data to the CSV file\n",
        "          extract_data_from_table_ocr(image_path, output_csv_path)\n",
        "          print(f\"Processed: {filename} -> {output_csv_path}\")\n",
        "  return None"
      ],
      "metadata": {
        "id": "rNZOup9RAmd0"
      },
      "execution_count": null,
      "outputs": []
    },
    {
      "cell_type": "code",
      "source": [
        "get_all_tables_into_csv(\"/content/\",\"/content/\")"
      ],
      "metadata": {
        "colab": {
          "base_uri": "https://localhost:8080/"
        },
        "id": "x5TRDJFVB-kq",
        "outputId": "0e80e412-4268-4a81-edf6-4977f002c4ed"
      },
      "execution_count": null,
      "outputs": [
        {
          "output_type": "stream",
          "name": "stdout",
          "text": [
            "length :  3\n",
            "Processed: page_3.png -> /content/page_3.csv\n",
            "length :  2\n",
            "Processed: page_5.png -> /content/page_5.csv\n",
            "length :  2\n",
            "Processed: page_2.png -> /content/page_2.csv\n",
            "length :  0\n",
            "Processed: page_1.png -> /content/page_1.csv\n",
            "length :  2\n",
            "Processed: page_4.png -> /content/page_4.csv\n",
            "length :  1\n",
            "Processed: PDF_image.png -> /content/PDF_image.csv\n",
            "length :  1\n",
            "Processed: page_0.png -> /content/page_0.csv\n"
          ]
        }
      ]
    }
  ],
  "metadata": {
    "kernelspec": {
      "display_name": "NLP_env",
      "language": "python",
      "name": "python3"
    },
    "language_info": {
      "codemirror_mode": {
        "name": "ipython",
        "version": 3
      },
      "file_extension": ".py",
      "mimetype": "text/x-python",
      "name": "python",
      "nbconvert_exporter": "python",
      "pygments_lexer": "ipython3",
      "version": "3.9.12"
    },
    "orig_nbformat": 4,
    "vscode": {
      "interpreter": {
        "hash": "18e1f6b75012c804af28ad83a5c9691a3f91030522fe6d37827743bbd4743ddd"
      }
    },
    "colab": {
      "provenance": [],
      "include_colab_link": true
    }
  },
  "nbformat": 4,
  "nbformat_minor": 0
}