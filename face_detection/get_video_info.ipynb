{
  "nbformat": 4,
  "nbformat_minor": 0,
  "metadata": {
    "colab": {
      "provenance": [],
      "authorship_tag": "ABX9TyPVUqYp15HNpoEhfLr6RJKe",
      "include_colab_link": true
    },
    "kernelspec": {
      "name": "python3",
      "display_name": "Python 3"
    },
    "language_info": {
      "name": "python"
    }
  },
  "cells": [
    {
      "cell_type": "markdown",
      "metadata": {
        "id": "view-in-github",
        "colab_type": "text"
      },
      "source": [
        "<a href=\"https://colab.research.google.com/github/vsingh9076/Computer_Vision/blob/main/face_detection/get_video_info.ipynb\" target=\"_parent\"><img src=\"https://colab.research.google.com/assets/colab-badge.svg\" alt=\"Open In Colab\"/></a>"
      ]
    },
    {
      "cell_type": "code",
      "execution_count": 1,
      "metadata": {
        "id": "onUvOf1Q9gtE"
      },
      "outputs": [],
      "source": [
        "import os\n",
        "import cv2\n",
        "\n",
        "def showVideoInfo(video_path, output_path):\n",
        "    info_file = open(os.path.join(output_path, \"video_info.txt\"), \"w\")\n",
        "    try:\n",
        "        vhandle = cv2.VideoCapture(video_path)\n",
        "        fps = vhandle.get(cv2.CAP_PROP_FPS)\n",
        "        count = vhandle.get(cv2.CAP_PROP_FRAME_COUNT)\n",
        "        size = (int(vhandle.get(cv2.CAP_PROP_FRAME_WIDTH)), int(vhandle.get(cv2.CAP_PROP_FRAME_HEIGHT)))\n",
        "        ret, firstframe = vhandle.read()\n",
        "\n",
        "        if ret:\n",
        "            print(\"FPS: %.2f\" % fps)\n",
        "            print(\"COUNT: %.2f\" % count)\n",
        "            print(\"WIDTH: %d\" % size[0])\n",
        "            print(\"HEIGHT: %d\" % size[1])\n",
        "\n",
        "            info_file.write(\"FPS: %.2f\" % fps +' \\n')\n",
        "            info_file.write(\"Frames: %.2f\" % count + '\\n')\n",
        "            info_file.write(\"WIDTH: %d\" % size[0] + '\\n')\n",
        "            info_file.write(\"HEIGHT: %d\" % size[1] + '\\n')\n",
        "            info_file.write(\"Thumbnail Containers: \" + str(int(numb_tc/25)+1) + '\\n')\n",
        "            info_file.write(\"Thumbnails: \" + str(numb_tc) )\n",
        "            info_file.close()\n",
        "            return vhandle, fps, size, firstframe\n",
        "        else:\n",
        "            print(\"Video can not read!\")\n",
        "    except:\n",
        "        \"Error in showVideoInfo\""
      ]
    }
  ]
}